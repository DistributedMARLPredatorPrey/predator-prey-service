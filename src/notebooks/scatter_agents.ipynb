{
 "cells": [
  {
   "cell_type": "code",
   "execution_count": 3,
   "id": "initial_id",
   "metadata": {
    "collapsed": true,
    "ExecuteTime": {
     "end_time": "2024-06-08T20:50:38.301341491Z",
     "start_time": "2024-06-08T20:50:35.100840330Z"
    }
   },
   "outputs": [],
   "source": [
    "import matplotlib.pyplot as plt\n",
    "import pandas as pd"
   ]
  },
  {
   "cell_type": "code",
   "execution_count": 6,
   "outputs": [
    {
     "name": "stdout",
     "output_type": "stream",
     "text": [
      "/home/luca/Desktop/uni/master/lab/distributed_systems/ds/predator-prey-service/src/notebooks\r\n"
     ]
    }
   ],
   "source": [
    "!pwd"
   ],
   "metadata": {
    "collapsed": false,
    "ExecuteTime": {
     "end_time": "2024-06-08T20:50:50.699804117Z",
     "start_time": "2024-06-08T20:50:50.536469611Z"
    }
   },
   "id": "9f0b8fb504de4b09"
  },
  {
   "cell_type": "code",
   "execution_count": 62,
   "outputs": [],
   "source": [
    "coordinates_path = \"../main/resources/experiment_data/positions_2.csv\""
   ],
   "metadata": {
    "collapsed": false,
    "ExecuteTime": {
     "end_time": "2024-06-08T21:49:56.750289322Z",
     "start_time": "2024-06-08T21:49:56.736668594Z"
    }
   },
   "id": "27625a32d1ba2741"
  },
  {
   "cell_type": "code",
   "execution_count": 84,
   "outputs": [
    {
     "data": {
      "text/plain": "   Unnamed: 0  elapsed_time        x_0         y_0        x_1         y_1  \\\n0           0      4.669156  94.943527  240.156354  25.015947  153.381670   \n1           1      9.764639  94.501391  238.745112  23.755501  152.288722   \n2           2     17.873528  93.045943  238.115171  22.854621  151.164241   \n3           3     26.089686  92.664270  236.947677  21.759621  150.268200   \n4           4     34.374845  91.358023  236.512436  20.743896  148.892357   \n\n          x_2        y_2        x_3         y_3  ...         x_6         y_6  \\\n0  127.124772  86.046948  13.308091  218.572093  ...  243.698003  247.101289   \n1  127.575208  85.186403  13.492551  219.357505  ...  242.609660  248.752479   \n2  126.723322  85.619821  14.790492  219.588013  ...  244.653006  247.467194   \n3  127.052787  84.998686  15.027009  221.401969  ...  243.618409  249.290508   \n4  126.411041  85.371886  16.767986  221.565850  ...  245.175115  248.357112   \n\n          x_7         y_7         x_8         y_8         x_9        y_9  \\\n0  208.855516  212.989766  179.048727  166.243983  120.213188  21.054913   \n1  207.364162  211.275711  180.157397  165.161738  118.731608  20.722417   \n2  205.662334  209.764785  179.149622  166.184794  118.452999  19.440897   \n3  204.289112  208.335204  180.355239  165.001222  117.369409  19.192098   \n4  202.621052  207.085969  179.089908  166.197244  117.212853  18.379713   \n\n        x_10        y_10  \n0  81.057851  171.141715  \n1  80.243765  171.879236  \n2  81.317295  170.564836  \n3  80.231435  171.358775  \n4  80.687397  170.828915  \n\n[5 rows x 24 columns]",
      "text/html": "<div>\n<style scoped>\n    .dataframe tbody tr th:only-of-type {\n        vertical-align: middle;\n    }\n\n    .dataframe tbody tr th {\n        vertical-align: top;\n    }\n\n    .dataframe thead th {\n        text-align: right;\n    }\n</style>\n<table border=\"1\" class=\"dataframe\">\n  <thead>\n    <tr style=\"text-align: right;\">\n      <th></th>\n      <th>Unnamed: 0</th>\n      <th>elapsed_time</th>\n      <th>x_0</th>\n      <th>y_0</th>\n      <th>x_1</th>\n      <th>y_1</th>\n      <th>x_2</th>\n      <th>y_2</th>\n      <th>x_3</th>\n      <th>y_3</th>\n      <th>...</th>\n      <th>x_6</th>\n      <th>y_6</th>\n      <th>x_7</th>\n      <th>y_7</th>\n      <th>x_8</th>\n      <th>y_8</th>\n      <th>x_9</th>\n      <th>y_9</th>\n      <th>x_10</th>\n      <th>y_10</th>\n    </tr>\n  </thead>\n  <tbody>\n    <tr>\n      <th>0</th>\n      <td>0</td>\n      <td>4.669156</td>\n      <td>94.943527</td>\n      <td>240.156354</td>\n      <td>25.015947</td>\n      <td>153.381670</td>\n      <td>127.124772</td>\n      <td>86.046948</td>\n      <td>13.308091</td>\n      <td>218.572093</td>\n      <td>...</td>\n      <td>243.698003</td>\n      <td>247.101289</td>\n      <td>208.855516</td>\n      <td>212.989766</td>\n      <td>179.048727</td>\n      <td>166.243983</td>\n      <td>120.213188</td>\n      <td>21.054913</td>\n      <td>81.057851</td>\n      <td>171.141715</td>\n    </tr>\n    <tr>\n      <th>1</th>\n      <td>1</td>\n      <td>9.764639</td>\n      <td>94.501391</td>\n      <td>238.745112</td>\n      <td>23.755501</td>\n      <td>152.288722</td>\n      <td>127.575208</td>\n      <td>85.186403</td>\n      <td>13.492551</td>\n      <td>219.357505</td>\n      <td>...</td>\n      <td>242.609660</td>\n      <td>248.752479</td>\n      <td>207.364162</td>\n      <td>211.275711</td>\n      <td>180.157397</td>\n      <td>165.161738</td>\n      <td>118.731608</td>\n      <td>20.722417</td>\n      <td>80.243765</td>\n      <td>171.879236</td>\n    </tr>\n    <tr>\n      <th>2</th>\n      <td>2</td>\n      <td>17.873528</td>\n      <td>93.045943</td>\n      <td>238.115171</td>\n      <td>22.854621</td>\n      <td>151.164241</td>\n      <td>126.723322</td>\n      <td>85.619821</td>\n      <td>14.790492</td>\n      <td>219.588013</td>\n      <td>...</td>\n      <td>244.653006</td>\n      <td>247.467194</td>\n      <td>205.662334</td>\n      <td>209.764785</td>\n      <td>179.149622</td>\n      <td>166.184794</td>\n      <td>118.452999</td>\n      <td>19.440897</td>\n      <td>81.317295</td>\n      <td>170.564836</td>\n    </tr>\n    <tr>\n      <th>3</th>\n      <td>3</td>\n      <td>26.089686</td>\n      <td>92.664270</td>\n      <td>236.947677</td>\n      <td>21.759621</td>\n      <td>150.268200</td>\n      <td>127.052787</td>\n      <td>84.998686</td>\n      <td>15.027009</td>\n      <td>221.401969</td>\n      <td>...</td>\n      <td>243.618409</td>\n      <td>249.290508</td>\n      <td>204.289112</td>\n      <td>208.335204</td>\n      <td>180.355239</td>\n      <td>165.001222</td>\n      <td>117.369409</td>\n      <td>19.192098</td>\n      <td>80.231435</td>\n      <td>171.358775</td>\n    </tr>\n    <tr>\n      <th>4</th>\n      <td>4</td>\n      <td>34.374845</td>\n      <td>91.358023</td>\n      <td>236.512436</td>\n      <td>20.743896</td>\n      <td>148.892357</td>\n      <td>126.411041</td>\n      <td>85.371886</td>\n      <td>16.767986</td>\n      <td>221.565850</td>\n      <td>...</td>\n      <td>245.175115</td>\n      <td>248.357112</td>\n      <td>202.621052</td>\n      <td>207.085969</td>\n      <td>179.089908</td>\n      <td>166.197244</td>\n      <td>117.212853</td>\n      <td>18.379713</td>\n      <td>80.687397</td>\n      <td>170.828915</td>\n    </tr>\n  </tbody>\n</table>\n<p>5 rows × 24 columns</p>\n</div>"
     },
     "execution_count": 84,
     "metadata": {},
     "output_type": "execute_result"
    }
   ],
   "source": [
    "df_coordinates = pd.read_csv(coordinates_path)\n",
    "df_coordinates.head()"
   ],
   "metadata": {
    "collapsed": false,
    "ExecuteTime": {
     "end_time": "2024-06-08T22:52:31.672563401Z",
     "start_time": "2024-06-08T22:52:31.637207628Z"
    }
   },
   "id": "295ffc3b0937cd18"
  },
  {
   "cell_type": "code",
   "execution_count": 85,
   "outputs": [],
   "source": [
    "x_coord = [col for col in df_coordinates.columns if col.startswith(\"x\")]\n",
    "y_coord = [col for col in df_coordinates.columns if col.startswith(\"y\")]"
   ],
   "metadata": {
    "collapsed": false,
    "ExecuteTime": {
     "end_time": "2024-06-08T22:52:32.756374581Z",
     "start_time": "2024-06-08T22:52:32.749414164Z"
    }
   },
   "id": "929ac887b7ac1dbe"
  },
  {
   "cell_type": "code",
   "execution_count": 86,
   "outputs": [
    {
     "data": {
      "text/plain": "<Figure size 640x480 with 1 Axes>",
      "image/png": "[encoded data removed]"
     },
     "metadata": {},
     "output_type": "display_data"
    }
   ],
   "source": [
    "\n",
    "n = len(df_coordinates)\n",
    "\n",
    "num_predators = 10\n",
    "num_preys = 1\n",
    "\n",
    "from celluloid import Camera\n",
    "\n",
    "camera = Camera(plt.figure())\n",
    "for i in range(n):\n",
    "    x = df_coordinates[x_coord].loc[i]\n",
    "    y = df_coordinates[y_coord].loc[i]\n",
    "    \n",
    "    x_pred, y_pred = x[:num_predators], y[:num_predators]\n",
    "    x_prey, y_prey = x[num_predators:], y[num_predators:]\n",
    "    \n",
    "    plt.scatter(x_pred, y_pred, c='red', s=100, marker='o')\n",
    "    plt.scatter(x_prey, y_prey, c='blue', s=100, marker='o')     \n",
    "    \n",
    "    camera.snap()\n",
    "anim = camera.animate(blit=True)\n",
    "anim.save('scatter.mp4')"
   ],
   "metadata": {
    "collapsed": false,
    "ExecuteTime": {
     "end_time": "2024-06-08T22:52:49.404323914Z",
     "start_time": "2024-06-08T22:52:33.326833510Z"
    }
   },
   "id": "ed9df561d9ffa268"
  },
  {
   "cell_type": "code",
   "execution_count": null,
   "outputs": [],
   "source": [],
   "metadata": {
    "collapsed": false
   },
   "id": "eeb9a6f7168af97"
  }
 ],
 "metadata": {
  "kernelspec": {
   "display_name": "Python 3",
   "language": "python",
   "name": "python3"
  },
  "language_info": {
   "codemirror_mode": {
    "name": "ipython",
    "version": 2
   },
   "file_extension": ".py",
   "mimetype": "text/x-python",
   "name": "python",
   "nbconvert_exporter": "python",
   "pygments_lexer": "ipython2",
   "version": "2.7.6"
  }
 },
 "nbformat": 4,
 "nbformat_minor": 5
}

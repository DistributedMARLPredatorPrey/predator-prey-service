{
 "cells": [
  {
   "cell_type": "code",
   "execution_count": 1,
   "id": "initial_id",
   "metadata": {
    "collapsed": true,
    "ExecuteTime": {
     "end_time": "2024-07-09T14:44:40.718048701Z",
     "start_time": "2024-07-09T14:44:37.360658021Z"
    }
   },
   "outputs": [],
   "source": [
    "import matplotlib.pyplot as plt\n",
    "import pandas as pd"
   ]
  },
  {
   "cell_type": "code",
   "execution_count": 2,
   "outputs": [
    {
     "name": "stdout",
     "output_type": "stream",
     "text": [
      "/home/luca/Desktop/uni/master/lab/distributed_systems/ds/predator-prey-service/src/notebooks\r\n"
     ]
    }
   ],
   "source": [
    "!pwd"
   ],
   "metadata": {
    "collapsed": false,
    "ExecuteTime": {
     "end_time": "2024-07-09T14:44:40.886683520Z",
     "start_time": "2024-07-09T14:44:40.720561526Z"
    }
   },
   "id": "9f0b8fb504de4b09"
  },
  {
   "cell_type": "code",
   "execution_count": 3,
   "outputs": [],
   "source": [
    "coordinates_path = \"../main/resources/experiment_data/positions_2.csv\""
   ],
   "metadata": {
    "collapsed": false,
    "ExecuteTime": {
     "end_time": "2024-07-09T14:44:40.887277703Z",
     "start_time": "2024-07-09T14:44:40.872212139Z"
    }
   },
   "id": "27625a32d1ba2741"
  },
  {
   "cell_type": "code",
   "execution_count": 7,
   "outputs": [
    {
     "data": {
      "text/plain": "   Unnamed: 0  elapsed_time         x_0         y_0         x_1         y_1  \\\n0           0      4.103032  165.955694  117.164780  178.341303  141.012477   \n1           1     13.696704  167.503726  116.061527  177.496536  141.353300   \n2           2     24.813294  166.447114  117.823024  177.752518  140.626724   \n3           3     35.328997  168.368140  116.801719  175.990389  141.341274   \n4           4     45.966481  167.004580  119.109528  176.962383  139.264296   \n\n         x_2        y_2         x_3         y_3  ...         x_6        y_6  \\\n0  68.555838  82.661325  100.179295  131.150559  ...  139.819672  60.185678   \n1  70.762582  84.151846   99.134968  130.933936  ...  140.664349  61.506946   \n2  72.327044  86.745808   98.881915  130.056138  ...  141.977914  62.474978   \n3  74.454528  88.035571   97.110411  129.605475  ...  142.907362  64.051218   \n4  75.464512  89.723799   96.744925  127.723924  ...  144.523184  65.085148   \n\n          x_7         y_7         x_8         y_8        x_9        y_9  \\\n0  241.120382  167.826629  229.724438  181.276317  32.118187  61.808663   \n1  239.775013  166.552977  230.589678  183.651350  32.890759  63.666907   \n2  238.217038  165.091807  233.097956  184.354533  35.454631  64.621678   \n3  236.157884  162.961836  233.934062  187.259027  36.341467  67.330409   \n4  233.547024  160.424757  236.657513  187.975512  39.562746  68.453823   \n\n         x_10        y_10  \n0  123.613164  239.387168  \n1  122.944939  238.982746  \n2  122.825934  238.233351  \n3  123.398335  238.508704  \n4  123.494481  239.189339  \n\n[5 rows x 24 columns]",
      "text/html": "<div>\n<style scoped>\n    .dataframe tbody tr th:only-of-type {\n        vertical-align: middle;\n    }\n\n    .dataframe tbody tr th {\n        vertical-align: top;\n    }\n\n    .dataframe thead th {\n        text-align: right;\n    }\n</style>\n<table border=\"1\" class=\"dataframe\">\n  <thead>\n    <tr style=\"text-align: right;\">\n      <th></th>\n      <th>Unnamed: 0</th>\n      <th>elapsed_time</th>\n      <th>x_0</th>\n      <th>y_0</th>\n      <th>x_1</th>\n      <th>y_1</th>\n      <th>x_2</th>\n      <th>y_2</th>\n      <th>x_3</th>\n      <th>y_3</th>\n      <th>...</th>\n      <th>x_6</th>\n      <th>y_6</th>\n      <th>x_7</th>\n      <th>y_7</th>\n      <th>x_8</th>\n      <th>y_8</th>\n      <th>x_9</th>\n      <th>y_9</th>\n      <th>x_10</th>\n      <th>y_10</th>\n    </tr>\n  </thead>\n  <tbody>\n    <tr>\n      <th>0</th>\n      <td>0</td>\n      <td>4.103032</td>\n      <td>165.955694</td>\n      <td>117.164780</td>\n      <td>178.341303</td>\n      <td>141.012477</td>\n      <td>68.555838</td>\n      <td>82.661325</td>\n      <td>100.179295</td>\n      <td>131.150559</td>\n      <td>...</td>\n      <td>139.819672</td>\n      <td>60.185678</td>\n      <td>241.120382</td>\n      <td>167.826629</td>\n      <td>229.724438</td>\n      <td>181.276317</td>\n      <td>32.118187</td>\n      <td>61.808663</td>\n      <td>123.613164</td>\n      <td>239.387168</td>\n    </tr>\n    <tr>\n      <th>1</th>\n      <td>1</td>\n      <td>13.696704</td>\n      <td>167.503726</td>\n      <td>116.061527</td>\n      <td>177.496536</td>\n      <td>141.353300</td>\n      <td>70.762582</td>\n      <td>84.151846</td>\n      <td>99.134968</td>\n      <td>130.933936</td>\n      <td>...</td>\n      <td>140.664349</td>\n      <td>61.506946</td>\n      <td>239.775013</td>\n      <td>166.552977</td>\n      <td>230.589678</td>\n      <td>183.651350</td>\n      <td>32.890759</td>\n      <td>63.666907</td>\n      <td>122.944939</td>\n      <td>238.982746</td>\n    </tr>\n    <tr>\n      <th>2</th>\n      <td>2</td>\n      <td>24.813294</td>\n      <td>166.447114</td>\n      <td>117.823024</td>\n      <td>177.752518</td>\n      <td>140.626724</td>\n      <td>72.327044</td>\n      <td>86.745808</td>\n      <td>98.881915</td>\n      <td>130.056138</td>\n      <td>...</td>\n      <td>141.977914</td>\n      <td>62.474978</td>\n      <td>238.217038</td>\n      <td>165.091807</td>\n      <td>233.097956</td>\n      <td>184.354533</td>\n      <td>35.454631</td>\n      <td>64.621678</td>\n      <td>122.825934</td>\n      <td>238.233351</td>\n    </tr>\n    <tr>\n      <th>3</th>\n      <td>3</td>\n      <td>35.328997</td>\n      <td>168.368140</td>\n      <td>116.801719</td>\n      <td>175.990389</td>\n      <td>141.341274</td>\n      <td>74.454528</td>\n      <td>88.035571</td>\n      <td>97.110411</td>\n      <td>129.605475</td>\n      <td>...</td>\n      <td>142.907362</td>\n      <td>64.051218</td>\n      <td>236.157884</td>\n      <td>162.961836</td>\n      <td>233.934062</td>\n      <td>187.259027</td>\n      <td>36.341467</td>\n      <td>67.330409</td>\n      <td>123.398335</td>\n      <td>238.508704</td>\n    </tr>\n    <tr>\n      <th>4</th>\n      <td>4</td>\n      <td>45.966481</td>\n      <td>167.004580</td>\n      <td>119.109528</td>\n      <td>176.962383</td>\n      <td>139.264296</td>\n      <td>75.464512</td>\n      <td>89.723799</td>\n      <td>96.744925</td>\n      <td>127.723924</td>\n      <td>...</td>\n      <td>144.523184</td>\n      <td>65.085148</td>\n      <td>233.547024</td>\n      <td>160.424757</td>\n      <td>236.657513</td>\n      <td>187.975512</td>\n      <td>39.562746</td>\n      <td>68.453823</td>\n      <td>123.494481</td>\n      <td>239.189339</td>\n    </tr>\n  </tbody>\n</table>\n<p>5 rows × 24 columns</p>\n</div>"
     },
     "execution_count": 7,
     "metadata": {},
     "output_type": "execute_result"
    }
   ],
   "source": [
    "df_coordinates = pd.read_csv(coordinates_path)\n",
    "df_coordinates.head()"
   ],
   "metadata": {
    "collapsed": false,
    "ExecuteTime": {
     "end_time": "2024-07-09T15:06:44.360466200Z",
     "start_time": "2024-07-09T15:06:44.319066079Z"
    }
   },
   "id": "295ffc3b0937cd18"
  },
  {
   "cell_type": "code",
   "execution_count": 8,
   "outputs": [
    {
     "data": {
      "text/plain": "89"
     },
     "execution_count": 8,
     "metadata": {},
     "output_type": "execute_result"
    }
   ],
   "source": [
    "len(df_coordinates)"
   ],
   "metadata": {
    "collapsed": false,
    "ExecuteTime": {
     "end_time": "2024-07-09T15:06:59.307714350Z",
     "start_time": "2024-07-09T15:06:59.288020834Z"
    }
   },
   "id": "1def1da6678b764c"
  },
  {
   "cell_type": "code",
   "execution_count": 9,
   "outputs": [],
   "source": [
    "x_coord = [col for col in df_coordinates.columns if col.startswith(\"x\")]\n",
    "y_coord = [col for col in df_coordinates.columns if col.startswith(\"y\")]"
   ],
   "metadata": {
    "collapsed": false,
    "ExecuteTime": {
     "end_time": "2024-07-09T15:07:02.989260556Z",
     "start_time": "2024-07-09T15:07:02.977105435Z"
    }
   },
   "id": "929ac887b7ac1dbe"
  },
  {
   "cell_type": "code",
   "execution_count": 10,
   "outputs": [
    {
     "data": {
      "text/plain": "<Figure size 640x480 with 1 Axes>",
      "image/png": "[encoded data removed]"
     },
     "metadata": {},
     "output_type": "display_data"
    }
   ],
   "source": [
    "\n",
    "n = len(df_coordinates)\n",
    "\n",
    "num_predators = 10\n",
    "num_preys = 1\n",
    "\n",
    "from celluloid import Camera\n",
    "\n",
    "camera = Camera(plt.figure())\n",
    "for i in range(n):\n",
    "    x = df_coordinates[x_coord].loc[i]\n",
    "    y = df_coordinates[y_coord].loc[i]\n",
    "    \n",
    "    x_pred, y_pred = x[:num_predators], y[:num_predators]\n",
    "    x_prey, y_prey = x[num_predators:], y[num_predators:]\n",
    "    \n",
    "    plt.scatter(x_pred, y_pred, c='red', s=100, marker='o')\n",
    "    plt.scatter(x_prey, y_prey, c='blue', s=100, marker='o')     \n",
    "    \n",
    "    camera.snap()\n",
    "anim = camera.animate(blit=True)\n",
    "anim.save('scatter.mp4')"
   ],
   "metadata": {
    "collapsed": false,
    "ExecuteTime": {
     "end_time": "2024-07-09T15:07:15.270884288Z",
     "start_time": "2024-07-09T15:07:05.438898297Z"
    }
   },
   "id": "ed9df561d9ffa268"
  },
  {
   "cell_type": "code",
   "execution_count": null,
   "outputs": [],
   "source": [],
   "metadata": {
    "collapsed": false
   },
   "id": "eeb9a6f7168af97"
  }
 ],
 "metadata": {
  "kernelspec": {
   "display_name": "Python 3",
   "language": "python",
   "name": "python3"
  },
  "language_info": {
   "codemirror_mode": {
    "name": "ipython",
    "version": 2
   },
   "file_extension": ".py",
   "mimetype": "text/x-python",
   "name": "python",
   "nbconvert_exporter": "python",
   "pygments_lexer": "ipython2",
   "version": "2.7.6"
  }
 },
 "nbformat": 4,
 "nbformat_minor": 5
}
